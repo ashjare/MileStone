{
 "cells": [
  {
   "cell_type": "markdown",
   "id": "6e039483-7ba5-4087-a5fe-40b090686c5a",
   "metadata": {},
   "source": [
    "# Tic Tac Toe"
   ]
  },
  {
   "cell_type": "markdown",
   "id": "f281768d-c800-4ec0-bfb0-98a25b416b5b",
   "metadata": {},
   "source": [
    "# Milestone Project 1\n",
    "## Congratulations on making it to your first milestone!\n",
    "You've already learned a ton and are ready to work on a real project.\n",
    "\n",
    "Your assignment: Create a Tic Tac Toe game. You are free to use any IDE you like.\n",
    "\n",
    "Here are the requirements:\n",
    "\n",
    "* 2 players should be able to play the game (both sitting at the same computer)\n",
    "* The board should be printed out every time a player makes a move\n",
    "* You should be able to accept input of the player position and then place a symbol on the board\n",
    "\n",
    "Feel free to use Google to help you figure anything out (but don't just Google \"Tic Tac Toe in Python\" otherwise you won't learn anything!) \n",
    "Keep in mind that this project can take anywhere between several hours to several days."
   ]
  },
  {
   "cell_type": "markdown",
   "id": "b64fd517-30da-484b-8400-b85f07c44252",
   "metadata": {},
   "source": [
    "#### Step 1:\n",
    "Write a function that can print out a board. Set up your board as a list, where each index 1-9 corresponds with a number on \n",
    "a number pad, so you get a 3 by 3 board representation.\n"
   ]
  },
  {
   "cell_type": "markdown",
   "id": "749e7bd1-a1a5-4c6a-be8d-122ac4104e9b",
   "metadata": {},
   "source": [
    "#### Step 2: \n",
    "Write a function that can take in a player input and assign their marker as 'X' or 'O'. Think about using *while* loops \n",
    "to continually ask until you get a correct answer.\n"
   ]
  },
  {
   "cell_type": "markdown",
   "id": "13b1e62b-5b09-4349-ad18-faaf0d352894",
   "metadata": {},
   "source": [
    "#### Step 3: \n",
    "Write a function that takes in the board list object, a marker ('X' or 'O'), and a desired position (number 1-9) \n",
    "and assigns it to the board.**\n",
    "#### TEST Step 3:\n",
    "run the place marker function using test parameters and display the modified board"
   ]
  },
  {
   "cell_type": "markdown",
   "id": "9b138332-387b-44ba-a4c9-6c0e713f788f",
   "metadata": {},
   "source": [
    "#### Step 4: \n",
    "Write a function that takes in a board and checks to see if someone has won. "
   ]
  },
  {
   "cell_type": "markdown",
   "id": "69d62b9d-45ca-4b6f-9ca5-9c579d66208e",
   "metadata": {},
   "source": [
    "#### Step 5: \n",
    "Write a function that uses the random module to randomly decide which player goes first. \n",
    "\tYou may want to lookup random.randint() Return a string of which player went first."
   ]
  },
  {
   "cell_type": "markdown",
   "id": "0373b0f2-e82c-411b-a48f-3a1daca8dcc2",
   "metadata": {},
   "source": [
    "#### Step 6: \n",
    "Write a function that returns a boolean indicating whether a space on the board is freely available."
   ]
  },
  {
   "cell_type": "markdown",
   "id": "873330ea-3fa9-4b1a-9c9a-52649ca41693",
   "metadata": {},
   "source": [
    "#### Step 7: \n",
    "Write a function that checks if the board is full and returns a boolean value. True if full, False otherwise."
   ]
  },
  {
   "cell_type": "markdown",
   "id": "291939c3-5e4d-4367-8d62-944ff2b67e96",
   "metadata": {},
   "source": [
    "#### Step 8: \n",
    "Write a function that asks for a player's next position (as a number 1-9) and then uses the function from \n",
    "\tstep 6 to check if its a free position. If it is, then return the position for later use. "
   ]
  },
  {
   "cell_type": "markdown",
   "id": "0be37ad4-6726-4d98-97df-db2132e0da4e",
   "metadata": {},
   "source": [
    "#### Step 9: \n",
    "Write a function that asks the player if they want to play again and returns a boolean True if they do want to play again."
   ]
  },
  {
   "cell_type": "markdown",
   "id": "453c91dc-5560-4ff7-a606-62327f89e783",
   "metadata": {},
   "source": [
    "#### Step 10: \n",
    "Here comes the hard part! Use while loops and the functions you've made to run the game!"
   ]
  }
 ],
 "metadata": {
  "kernelspec": {
   "display_name": "Python 3 (ipykernel)",
   "language": "python",
   "name": "python3"
  },
  "language_info": {
   "codemirror_mode": {
    "name": "ipython",
    "version": 3
   },
   "file_extension": ".py",
   "mimetype": "text/x-python",
   "name": "python",
   "nbconvert_exporter": "python",
   "pygments_lexer": "ipython3",
   "version": "3.9.7"
  }
 },
 "nbformat": 4,
 "nbformat_minor": 5
}
